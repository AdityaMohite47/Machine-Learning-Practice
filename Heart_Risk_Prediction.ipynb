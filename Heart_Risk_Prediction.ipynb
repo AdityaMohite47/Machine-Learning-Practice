{
 "cells": [
  {
   "cell_type": "markdown",
   "metadata": {},
   "source": [
    "## Heart Risk Prediction with Kaggle's Dataset\n",
    "\n",
    "World Health Organization has estimated 12 million deaths occur worldwide, every year due to Heart diseases. Half the deaths in \n",
    "the United States and other developed countries are due to cardio vascular diseases. The early prognosis of cardiovascular diseases\n",
    "can aid in making decisions on lifestyle changes in high risk patients and in turn reduce the complications. This research intends \n",
    "to pinpoint the most relevant/risk factors of heart disease as well as predict the overall risk using logistic regression.\n",
    "\n",
    "Source\n",
    "The dataset is publically available on the Kaggle website, and it is from an ongoing cardiovascular study on residents of the town\n",
    " of Framingham, Massachusetts. The classification goal is to predict whether the patient has 10-year risk of future coronary heart disease (CHD).\n",
    "The dataset provides the patients’ information. It includes over 4,000 records and 15 attributes. \n",
    "\n",
    "\n",
    "Demographic [ Each attribute is a potential risk factor. There are both demographic, behavioral and medical risk factors. ] :\n",
    "\n",
    "  • Sex: male or female(Nominal).\n",
    "\n",
    "  • Age: Age of the patient;(Continuous - Although the recorded ages have been truncated to whole numbers, the concept of age is continuous)\n",
    "  Behavioral.\n",
    "\n",
    "  • Current Smoker: whether or not the patient is a current smoker (Nominal)\n",
    "\n",
    "  • Cigs Per Day: the number of cigarettes that the person smoked on average in one day.(can be considered continuous as one can  \n",
    "      have any number of cigarettes, even half a cigarette.) Medical( history)\n",
    "\n",
    "  • BP Meds: whether or not the patient was on blood pressure medication (Nominal)\n",
    "\n",
    "  • Prevalent Stroke: whether or not the patient had previously had a stroke (Nominal)\n",
    "\n",
    "  • Prevalent Hyp: whether or not the patient was hypertensive (Nominal)\n",
    "\n",
    "  • Diabetes: whether or not the patient had diabetes (Nominal) , Medical(current)\n",
    "\n",
    "  • Tot Chol: total cholesterol level (Continuous)\n",
    "\n",
    "  • Sys BP: systolic blood pressure (Continuous)\n",
    "\n",
    "  • Dia BP: diastolic blood pressure (Continuous)\n",
    "\n",
    "  • BMI: Body Mass Index (Continuous)\n",
    "\n",
    "  • Heart Rate: heart rate (Continuous - In medical research, variables such as heart rate though in fact discrete, yet \n",
    "             are considered continuous because of large number of possible values.)\n",
    "\n",
    "  • Glucose: glucose level (Continuous)\n",
    "\n",
    "  Predict variable (desired target)\n",
    "  \n",
    "  • 10 year risk of coronary heart disease CHD (binary: “1”, means “Yes”, “0” means “No”)\n"
   ]
  },
  {
   "cell_type": "code",
   "execution_count": 1,
   "metadata": {},
   "outputs": [
    {
     "name": "stdout",
     "output_type": "stream",
     "text": [
      "<class 'pandas.core.frame.DataFrame'>\n",
      "RangeIndex: 4238 entries, 0 to 4237\n",
      "Data columns (total 16 columns):\n",
      " #   Column           Non-Null Count  Dtype  \n",
      "---  ------           --------------  -----  \n",
      " 0   male             4238 non-null   int64  \n",
      " 1   age              4238 non-null   int64  \n",
      " 2   education        4133 non-null   float64\n",
      " 3   currentSmoker    4238 non-null   int64  \n",
      " 4   cigsPerDay       4209 non-null   float64\n",
      " 5   BPMeds           4185 non-null   float64\n",
      " 6   prevalentStroke  4238 non-null   int64  \n",
      " 7   prevalentHyp     4238 non-null   int64  \n",
      " 8   diabetes         4238 non-null   int64  \n",
      " 9   totChol          4188 non-null   float64\n",
      " 10  sysBP            4238 non-null   float64\n",
      " 11  diaBP            4238 non-null   float64\n",
      " 12  BMI              4219 non-null   float64\n",
      " 13  heartRate        4237 non-null   float64\n",
      " 14  glucose          3850 non-null   float64\n",
      " 15  TenYearCHD       4238 non-null   int64  \n",
      "dtypes: float64(9), int64(7)\n",
      "memory usage: 529.9 KB\n",
      "None\n"
     ]
    }
   ],
   "source": [
    "import numpy as np\n",
    "import pandas as pd\n",
    "import matplotlib.pyplot as plt\n",
    "import seaborn as sns\n",
    "\n",
    "data = pd.read_csv('./Datasets/framingham.csv')\n",
    "\n",
    "# print(data.sample(5) , end='\\n')\n",
    "print(data.info())\n",
    "\n",
    "# print(data.describe().transpose())"
   ]
  },
  {
   "cell_type": "code",
   "execution_count": 2,
   "metadata": {},
   "outputs": [
    {
     "name": "stdout",
     "output_type": "stream",
     "text": [
      "      male  age  education  currentSmoker  cigsPerDay  BPMeds  \\\n",
      "38       0   42        1.0              1         1.0     0.0   \n",
      "1348     1   42        4.0              0         0.0     0.0   \n",
      "3726     0   56        3.0              1         1.0     0.0   \n",
      "1082     0   49        2.0              1        30.0     0.0   \n",
      "3235     0   51        3.0              0         0.0     0.0   \n",
      "\n",
      "      prevalentStroke  prevalentHyp  diabetes  totChol  sysBP  diaBP    BMI  \\\n",
      "38                  0             1         0    233.0  153.0  101.0  28.93   \n",
      "1348                0             0         0    225.0  110.0   73.0  27.67   \n",
      "3726                0             1         0    260.0  120.0   84.0  36.18   \n",
      "1082                0             0         0    265.0  144.0   86.0  25.57   \n",
      "3235                0             0         0    204.0  119.0   80.0  24.03   \n",
      "\n",
      "      heartRate  glucose  TenYearCHD  \n",
      "38         60.0     90.0           0  \n",
      "1348       65.0     65.0           0  \n",
      "3726       80.0     76.0           0  \n",
      "1082       82.0     68.0           0  \n",
      "3235       85.0     87.0           0  \n"
     ]
    }
   ],
   "source": [
    "print(data.sample(5))"
   ]
  },
  {
   "cell_type": "code",
   "execution_count": 3,
   "metadata": {},
   "outputs": [
    {
     "name": "stdout",
     "output_type": "stream",
     "text": [
      "                  count        mean        std     min     25%    50%  \\\n",
      "male             4238.0    0.429212   0.495022    0.00    0.00    0.0   \n",
      "age              4238.0   49.584946   8.572160   32.00   42.00   49.0   \n",
      "education        4133.0    1.978950   1.019791    1.00    1.00    2.0   \n",
      "currentSmoker    4238.0    0.494101   0.500024    0.00    0.00    0.0   \n",
      "cigsPerDay       4209.0    9.003089  11.920094    0.00    0.00    0.0   \n",
      "BPMeds           4185.0    0.029630   0.169584    0.00    0.00    0.0   \n",
      "prevalentStroke  4238.0    0.005899   0.076587    0.00    0.00    0.0   \n",
      "prevalentHyp     4238.0    0.310524   0.462763    0.00    0.00    0.0   \n",
      "diabetes         4238.0    0.025720   0.158316    0.00    0.00    0.0   \n",
      "totChol          4188.0  236.721585  44.590334  107.00  206.00  234.0   \n",
      "sysBP            4238.0  132.352407  22.038097   83.50  117.00  128.0   \n",
      "diaBP            4238.0   82.893464  11.910850   48.00   75.00   82.0   \n",
      "BMI              4219.0   25.802008   4.080111   15.54   23.07   25.4   \n",
      "heartRate        4237.0   75.878924  12.026596   44.00   68.00   75.0   \n",
      "glucose          3850.0   81.966753  23.959998   40.00   71.00   78.0   \n",
      "TenYearCHD       4238.0    0.151958   0.359023    0.00    0.00    0.0   \n",
      "\n",
      "                     75%    max  \n",
      "male               1.000    1.0  \n",
      "age               56.000   70.0  \n",
      "education          3.000    4.0  \n",
      "currentSmoker      1.000    1.0  \n",
      "cigsPerDay        20.000   70.0  \n",
      "BPMeds             0.000    1.0  \n",
      "prevalentStroke    0.000    1.0  \n",
      "prevalentHyp       1.000    1.0  \n",
      "diabetes           0.000    1.0  \n",
      "totChol          263.000  696.0  \n",
      "sysBP            144.000  295.0  \n",
      "diaBP             89.875  142.5  \n",
      "BMI               28.040   56.8  \n",
      "heartRate         83.000  143.0  \n",
      "glucose           87.000  394.0  \n",
      "TenYearCHD         0.000    1.0  \n"
     ]
    }
   ],
   "source": [
    "print(data.describe().transpose())"
   ]
  },
  {
   "cell_type": "code",
   "execution_count": 4,
   "metadata": {},
   "outputs": [
    {
     "data": {
      "text/plain": [
       "<Axes: xlabel='TenYearCHD', ylabel='age'>"
      ]
     },
     "execution_count": 4,
     "metadata": {},
     "output_type": "execute_result"
    },
    {
     "data": {
      "image/png": "[encoded data removed]",
      "text/plain": [
       "<Figure size 640x480 with 1 Axes>"
      ]
     },
     "metadata": {},
     "output_type": "display_data"
    }
   ],
   "source": [
    "# Determining the age group for CHD for both genders...\n",
    "sns.boxplot(x='TenYearCHD' , y='age' ,  data=data , hue='male')"
   ]
  },
  {
   "cell_type": "code",
   "execution_count": 5,
   "metadata": {},
   "outputs": [
    {
     "name": "stdout",
     "output_type": "stream",
     "text": [
      "education         -0.054059\n",
      "currentSmoker      0.019456\n",
      "heartRate          0.022913\n",
      "cigsPerDay         0.057884\n",
      "prevalentStroke    0.061810\n",
      "BMI                0.075192\n",
      "totChol            0.082184\n",
      "BPMeds             0.087489\n",
      "male               0.088428\n",
      "diabetes           0.097317\n",
      "glucose            0.125544\n",
      "diaBP              0.145299\n",
      "prevalentHyp       0.177603\n",
      "sysBP              0.216429\n",
      "age                0.225256\n",
      "TenYearCHD         1.000000\n",
      "Name: TenYearCHD, dtype: float64\n"
     ]
    },
    {
     "data": {
      "text/plain": [
       "<Axes: >"
      ]
     },
     "execution_count": 5,
     "metadata": {},
     "output_type": "execute_result"
    },
    {
     "data": {
      "image/png": "[encoded data removed]",
      "text/plain": [
       "<Figure size 640x480 with 2 Axes>"
      ]
     },
     "metadata": {},
     "output_type": "display_data"
    }
   ],
   "source": [
    "# Determining the correlation of all features to each other...\n",
    "print(data.corr()['TenYearCHD'].sort_values())\n",
    "sns.heatmap(data=data.corr() )"
   ]
  },
  {
   "cell_type": "code",
   "execution_count": 6,
   "metadata": {},
   "outputs": [],
   "source": [
    "# 'education' feature having no impact on CHD so dropping it , Correlation value : -0.054059\n",
    "data = data.drop('education' , axis=1)"
   ]
  },
  {
   "cell_type": "code",
   "execution_count": 7,
   "metadata": {},
   "outputs": [
    {
     "name": "stdout",
     "output_type": "stream",
     "text": [
      "male                 0\n",
      "age                  0\n",
      "currentSmoker        0\n",
      "cigsPerDay          29\n",
      "BPMeds              53\n",
      "prevalentStroke      0\n",
      "prevalentHyp         0\n",
      "diabetes             0\n",
      "totChol             50\n",
      "sysBP                0\n",
      "diaBP                0\n",
      "BMI                 19\n",
      "heartRate            1\n",
      "glucose            388\n",
      "TenYearCHD           0\n",
      "dtype: int64\n"
     ]
    }
   ],
   "source": [
    "# checking for Null values\n",
    "print(data.isna().sum()) # 540 missing values found"
   ]
  },
  {
   "cell_type": "markdown",
   "metadata": {},
   "source": [
    "- Imputing the missing values with suitable imputation"
   ]
  },
  {
   "cell_type": "code",
   "execution_count": 8,
   "metadata": {},
   "outputs": [],
   "source": [
    "data = data.dropna(subset=['heartRate']) # Only one missing value so dropping doesn't cost much\n",
    "data['glucose'] = data['glucose'].fillna(data['glucose'].mean())  # Mean imputation for glucose\n",
    "data['BPMeds'] = data['BPMeds'].fillna(data['BPMeds'].mode()[0])  # Mode imputation for BPMeds\n",
    "data['totChol'] = data['totChol'].fillna(data['totChol'].median())  # Median imputation for totChol\n",
    "data['cigsPerDay'] = data['cigsPerDay'].fillna(data['cigsPerDay'].median())  # Median imputation for cigsPerDay\n",
    "data['BMI'] = data['BMI'].fillna(data['BMI'].mean())  # Mean imputation for BMI"
   ]
  },
  {
   "cell_type": "code",
   "execution_count": 9,
   "metadata": {},
   "outputs": [],
   "source": [
    "X = data.drop('TenYearCHD' , axis=1)\n",
    "y = data['TenYearCHD']"
   ]
  },
  {
   "cell_type": "markdown",
   "metadata": {},
   "source": [
    "- Checking for imbalance"
   ]
  },
  {
   "cell_type": "code",
   "execution_count": 10,
   "metadata": {},
   "outputs": [
    {
     "name": "stdout",
     "output_type": "stream",
     "text": [
      "TenYearCHD\n",
      "0    3594\n",
      "1     643\n",
      "Name: count, dtype: int64\n"
     ]
    },
    {
     "data": {
      "text/plain": [
       "<Axes: ylabel='count'>"
      ]
     },
     "execution_count": 10,
     "metadata": {},
     "output_type": "execute_result"
    },
    {
     "data": {
      "image/png": "[encoded data removed]",
      "text/plain": [
       "<Figure size 640x480 with 1 Axes>"
      ]
     },
     "metadata": {},
     "output_type": "display_data"
    }
   ],
   "source": [
    "print(y.value_counts()) # Imbalance of classes Detected\n",
    "y.value_counts().plot.pie() # pandas in-built function to visualize a pie-chart"
   ]
  },
  {
   "cell_type": "markdown",
   "metadata": {},
   "source": [
    "- Defining train-test split and Scaling the Data"
   ]
  },
  {
   "cell_type": "code",
   "execution_count": 11,
   "metadata": {},
   "outputs": [],
   "source": [
    "from sklearn.model_selection import train_test_split\n",
    "from sklearn.preprocessing import StandardScaler \n",
    "\n",
    "\n",
    "X_train, X_test, y_train, y_test = train_test_split(X , y ,  test_size=0.3, random_state=42)\n",
    "scaler = StandardScaler()\n",
    "X_train = scaler.fit_transform(X_train)\n",
    "X_test = scaler.transform(X_test) "
   ]
  },
  {
   "cell_type": "markdown",
   "metadata": {},
   "source": [
    "- Resampling the Data"
   ]
  },
  {
   "cell_type": "code",
   "execution_count": 12,
   "metadata": {},
   "outputs": [],
   "source": [
    "from imblearn.over_sampling import RandomOverSampler # for balanced sampling\n",
    "\n",
    "re_sampler = RandomOverSampler(random_state=42)\n",
    "re_X , re_y = re_sampler.fit_resample(X_train , y_train)"
   ]
  },
  {
   "cell_type": "markdown",
   "metadata": {},
   "source": [
    "- Suppressing Warnings"
   ]
  },
  {
   "cell_type": "code",
   "execution_count": 13,
   "metadata": {},
   "outputs": [],
   "source": [
    "import warnings\n",
    "warnings.filterwarnings(\"ignore\", message=\"l1_ratio parameter is only used when penalty is 'elasticnet'\")"
   ]
  },
  {
   "cell_type": "markdown",
   "metadata": {},
   "source": [
    "- Making a Logistic Regression Model"
   ]
  },
  {
   "cell_type": "code",
   "execution_count": 14,
   "metadata": {},
   "outputs": [
    {
     "name": "stdout",
     "output_type": "stream",
     "text": [
      "{'estimator__C': 0.2, 'estimator__l1_ratio': 0.1, 'estimator__penalty': 'l1'}\n"
     ]
    }
   ],
   "source": [
    "from sklearn.multiclass import OneVsRestClassifier # using this because 'ovr' parameter for LogisticRegression() is depricated\n",
    "from sklearn.linear_model import LogisticRegression\n",
    "from sklearn.model_selection import GridSearchCV\n",
    "\n",
    "Model =  OneVsRestClassifier(LogisticRegression(solver='saga' , max_iter=5000))\n",
    "\n",
    "params_grid = {\n",
    "    'estimator__penalty' : ['l1' , 'l2' , 'elasticnet'],\n",
    "    'estimator__C': [0.1 , 0.2 , 0.3 , 0.4 , 0.5 ], \n",
    "    'estimator__l1_ratio': [0.1 , 0.2 , 0.3 , 0.4 , 0.5 ]\n",
    "}\n",
    "\n",
    "GridSearch_Log_Model = GridSearchCV(estimator=Model , param_grid=params_grid , cv=10)\n",
    "GridSearch_Log_Model.fit(re_X , re_y)\n",
    "\n",
    "print(GridSearch_Log_Model.best_params_)"
   ]
  },
  {
   "cell_type": "markdown",
   "metadata": {},
   "source": [
    "- Testing with Test-Set"
   ]
  },
  {
   "cell_type": "code",
   "execution_count": 15,
   "metadata": {},
   "outputs": [
    {
     "name": "stdout",
     "output_type": "stream",
     "text": [
      "Confusion Matix : \n",
      " [[721 347]\n",
      " [ 71 133]]\n",
      "Classification Report : \n",
      "               precision    recall  f1-score   support\n",
      "\n",
      "           0       0.91      0.68      0.78      1068\n",
      "           1       0.28      0.65      0.39       204\n",
      "\n",
      "    accuracy                           0.67      1272\n",
      "   macro avg       0.59      0.66      0.58      1272\n",
      "weighted avg       0.81      0.67      0.71      1272\n",
      "\n"
     ]
    }
   ],
   "source": [
    "from sklearn.metrics import confusion_matrix  ,classification_report\n",
    "\n",
    "y_pred = GridSearch_Log_Model.predict(X_test)\n",
    "\n",
    "print(\"Confusion Matix : \\n\" , confusion_matrix(y_test , y_pred))\n",
    "\n",
    "print(\"Classification Report : \\n\" , classification_report(y_test , y_pred))"
   ]
  },
  {
   "cell_type": "markdown",
   "metadata": {},
   "source": [
    "- Trying with KNN Classifier"
   ]
  },
  {
   "cell_type": "code",
   "execution_count": 16,
   "metadata": {},
   "outputs": [
    {
     "name": "stdout",
     "output_type": "stream",
     "text": [
      "{'n_neighbors': 1}\n"
     ]
    },
    {
     "name": "stderr",
     "output_type": "stream",
     "text": [
      "c:\\Users\\mohit\\AppData\\Local\\Programs\\Python\\Python312\\Lib\\site-packages\\numpy\\ma\\core.py:2846: RuntimeWarning: invalid value encountered in cast\n",
      "  _data = np.array(data, dtype=dtype, copy=copy,\n"
     ]
    }
   ],
   "source": [
    "from sklearn.neighbors import KNeighborsClassifier\n",
    "\n",
    "params_grid = {\n",
    "    'n_neighbors': [x for x in range(1 , 31)],\n",
    "}\n",
    "\n",
    "GridSearch_KNN_Model = GridSearchCV(estimator=KNeighborsClassifier() , param_grid=params_grid , cv=10)\n",
    "GridSearch_KNN_Model.fit(re_X , re_y)\n",
    "\n",
    "print(GridSearch_KNN_Model.best_params_)"
   ]
  },
  {
   "cell_type": "markdown",
   "metadata": {},
   "source": [
    "- Testing with Test-Set for KNN"
   ]
  },
  {
   "cell_type": "code",
   "execution_count": 17,
   "metadata": {},
   "outputs": [
    {
     "name": "stdout",
     "output_type": "stream",
     "text": [
      "Confusion Matix : \n",
      " [[960 108]\n",
      " [157  47]]\n",
      "Classification Report : \n",
      "               precision    recall  f1-score   support\n",
      "\n",
      "           0       0.86      0.90      0.88      1068\n",
      "           1       0.30      0.23      0.26       204\n",
      "\n",
      "    accuracy                           0.79      1272\n",
      "   macro avg       0.58      0.56      0.57      1272\n",
      "weighted avg       0.77      0.79      0.78      1272\n",
      "\n"
     ]
    }
   ],
   "source": [
    "y_pred = GridSearch_KNN_Model.predict(X_test)\n",
    "\n",
    "print(\"Confusion Matix : \\n\" , confusion_matrix(y_test , y_pred))\n",
    "\n",
    "print(\"Classification Report : \\n\" , classification_report(y_test , y_pred))"
   ]
  },
  {
   "cell_type": "markdown",
   "metadata": {},
   "source": [
    "- Trying with Support Vector Classifier"
   ]
  },
  {
   "cell_type": "code",
   "execution_count": 18,
   "metadata": {},
   "outputs": [
    {
     "name": "stdout",
     "output_type": "stream",
     "text": [
      "{'C': 0.5, 'gamma': 0.5, 'kernel': 'rbf'}\n"
     ]
    }
   ],
   "source": [
    "from sklearn.svm import SVC\n",
    "\n",
    "params_grid = {\n",
    "    'C': [0.1 , 0.2 , 0.3 , 0.4 , 0.5],\n",
    "    'kernel':['linear' , 'rbf'],\n",
    "    'gamma':[0.1 , 0.2 , 0.3 , 0.4 , 0.5]\n",
    "}\n",
    "\n",
    "GridSearch_KNN_Model = GridSearchCV(estimator=SVC() , param_grid=params_grid , cv=10)\n",
    "GridSearch_KNN_Model.fit(re_X , re_y)\n",
    "\n",
    "print(GridSearch_KNN_Model.best_params_)"
   ]
  },
  {
   "cell_type": "markdown",
   "metadata": {},
   "source": [
    "- Testing with Test-Set for Support Vector Classifier"
   ]
  },
  {
   "cell_type": "code",
   "execution_count": 19,
   "metadata": {},
   "outputs": [
    {
     "name": "stdout",
     "output_type": "stream",
     "text": [
      "Confusion Matix : \n",
      " [[941 127]\n",
      " [161  43]]\n",
      "Classification Report : \n",
      "               precision    recall  f1-score   support\n",
      "\n",
      "           0       0.85      0.88      0.87      1068\n",
      "           1       0.25      0.21      0.23       204\n",
      "\n",
      "    accuracy                           0.77      1272\n",
      "   macro avg       0.55      0.55      0.55      1272\n",
      "weighted avg       0.76      0.77      0.77      1272\n",
      "\n"
     ]
    }
   ],
   "source": [
    "y_pred = GridSearch_KNN_Model.predict(X_test)\n",
    "\n",
    "print(\"Confusion Matix : \\n\" , confusion_matrix(y_test , y_pred))\n",
    "\n",
    "print(\"Classification Report : \\n\" , classification_report(y_test , y_pred))"
   ]
  },
  {
   "cell_type": "markdown",
   "metadata": {},
   "source": [
    "For now KNN is the better model on this dataset. Other models are unsuccessful due to the fact that data itself is unbalanced\n",
    "\n",
    "0  :   3594\n",
    "\n",
    "1  :   643"
   ]
  }
 ],
 "metadata": {
  "kernelspec": {
   "display_name": "Python 3",
   "language": "python",
   "name": "python3"
  },
  "language_info": {
   "codemirror_mode": {
    "name": "ipython",
    "version": 3
   },
   "file_extension": ".py",
   "mimetype": "text/x-python",
   "name": "python",
   "nbconvert_exporter": "python",
   "pygments_lexer": "ipython3",
   "version": "3.12.4"
  }
 },
 "nbformat": 4,
 "nbformat_minor": 2
}
